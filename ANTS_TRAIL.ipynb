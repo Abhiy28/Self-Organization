{
  "nbformat": 4,
  "nbformat_minor": 0,
  "metadata": {
    "colab": {
      "provenance": [],
      "collapsed_sections": [],
      "authorship_tag": "ABX9TyOZZYUZ26Sy/7m4SfEeOCh0",
      "include_colab_link": true
    },
    "kernelspec": {
      "name": "python3",
      "display_name": "Python 3"
    },
    "language_info": {
      "name": "python"
    }
  },
  "cells": [
    {
      "cell_type": "markdown",
      "metadata": {
        "id": "view-in-github",
        "colab_type": "text"
      },
      "source": [
        "<a href=\"https://colab.research.google.com/github/Abhiy28/Self-Organization/blob/main/ANTS_TRAIL.ipynb\" target=\"_parent\"><img src=\"https://colab.research.google.com/assets/colab-badge.svg\" alt=\"Open In Colab\"/></a>"
      ]
    },
    {
      "cell_type": "code",
      "source": [
        "from manim import *"
      ],
      "metadata": {
        "id": "6Ehx4UuJf_PA"
      },
      "execution_count": 7,
      "outputs": []
    },
    {
      "cell_type": "code",
      "source": [
        "a = np.array([1, 0, 0])\n",
        "def RandomVel():\n",
        "    th = np.random.uniform(-3.14, 3.14)\n",
        "    ROT3D = np.array([[np.cos(th), np.sin(th), 0], [-np.sin(th), np.cos(th), 0], [0, 0, 0]])\n",
        "    vel = np.matmul(ROT3D, a)\n",
        "    return vel\n",
        "\n",
        "\n",
        "N = 10  # number of ants\n",
        "'''We start with initially zero pheromones and the then each ant lays the pheromones'''\n",
        "M = 100\n",
        "\n",
        "sa = 0.05  # size of ants\n",
        "EdgeU = 4\n",
        "EdgeD = -4\n",
        "EdgeL = -7\n",
        "\n",
        "EdgeR = 7\n",
        "speed = 1  # speed of ants\n",
        "size = 0.2*sa  # size of the pheromone representation\n",
        "T_e = 100  # meantime of evaporation\n",
        "\n",
        "PoissonWandering = 0.02  # Exploratory part of ant motion. Ranges from 0 to 1\n",
        "GaussVariance = 0.1\n",
        "GaussMean = 0\n",
        "Theta = np.pi / 4  # Defining the range of sight by R and Theta ... Detecting a pheromone particle\n",
        "\n",
        "R = 10 * sa\n",
        "lam_r = 0.01*speed  # Deposition rate\n",
        "lam_t = 0.1 # Trail recruitment rate\n",
        "\n",
        "DepositionRate = 0.002\n",
        "\n",
        "\n",
        "def wondering(ANT):\n",
        "    th = GaussVariance * np.random.randn() + GaussMean\n",
        "    ROT3D = [[np.cos(th), np.sin(th), 0], [-np.sin(th), np.cos(th), 0], [0, 0, 0]]\n",
        "    ANT.vel = np.matmul(ANT.vel, ROT3D)\n",
        "    return ANT\n",
        "\n",
        "\n",
        "def Detecting_Walls(ANT):\n",
        "    # dth = np.random.uniform(-np.pi/4, np.pi/4)\n",
        "    v = np.array(ANT.pos < np.array([EdgeL, EdgeD, 0]), dtype=int) - np.array(np.array([EdgeR, EdgeU, 0]) < ANT.pos,\n",
        "                                                                                  dtype=float)\n",
        "    ANT.pos = np.array([EdgeR*v[0], EdgeU*v[1], 0])+np.array([ANT.pos[0]*(1-v[0]**2), ANT.pos[1]*(1-v[1]**2), 0])\n",
        "        #ROT3D = np.array([[np.cos(dth), np.sin(dth), 0], [-np.sin(dth), np.cos(dth), 0], [0, 0, 0]])\n",
        "        #ANT.vel = np.matmul(-ANT.vel, ROT3D)\n",
        "\n",
        "    return ANT\n",
        "\n",
        "\n",
        "def Trial_recruitment(ANT, ph):\n",
        "    neighbour = ANT.neighbor(ph)\n",
        "    if any(neighbour):\n",
        "        neighbour = neighbour / np.sum(neighbour)\n",
        "        t = [-np.pi / 6, 0, np.pi / 6]\n",
        "        th = np.random.choice(t, p=neighbour)\n",
        "        M = np.array([[np.cos(th), np.sin(th), 0], [-np.sin(th), np.cos(th), 0], [0, 0, 0]])\n",
        "        ANT.vel = np.matmul(M, ANT.vel)\n",
        "        return ANT\n",
        "\n",
        "\n",
        "def Pheromone_deposition(Mobject, ANT_object):\n",
        "    v = np.random.uniform(0, 1, N)\n",
        "    v = np.nonzero(v)[0]\n",
        "    Mobject.add(*[Dot(ANT_object[i].pos, color=TEAL_A, radius=size) for i in v])\n",
        "    return Mobject\n",
        "\n",
        "\n",
        "def Update_pheromones(Mobject):\n",
        "    s = len(Mobject)\n",
        "    v = np.random.uniform(0, 1, s)\n",
        "    t = np.array(v < 1 / T_e, dtype = int)\n",
        "    t = np.nonzero(t)[0]\n",
        "    rl = VGroup()\n",
        "    rl.add(*[Mobject[i] for i in t])\n",
        "    for r in rl:\n",
        "      Mobject.remove(r)\n",
        "\n",
        "    Pheromone_deposition(Mobject, ANTS_object)\n",
        "\n",
        "\n",
        "'''Initialization of ants'''\n",
        "\n",
        "#POS = np.array([[np.random.uniform(-1, 1), np.random.uniform(-1, 1), 0] for i in range(N)])\n",
        "POS = np.array([[np.random.uniform(EdgeL, EdgeR), np.random.uniform(EdgeD, EdgeU), 0] for i in range(N)])  # Random initial position of ants\n",
        "VEL = speed * np.array([RandomVel() for i in range(N)])  # Initial velocities of ants in random directions\n",
        "\n",
        "'''Initialization of pheromones'''\n",
        "\n",
        "PheromonePosition = np.array([[np.random.uniform(EdgeL, EdgeR), np.random.uniform(EdgeD, EdgeU), 0] for i in range(M)])\n",
        "\n",
        "pheromones = VGroup()\n",
        "pheromones.add_updater(Update_pheromones)\n",
        "for i in range(M):\n",
        "    pheromones.add(Dot(PheromonePosition[i], color=TEAL_A, radius=size))\n",
        "\n",
        "\n",
        "\n",
        "'''___'''\n",
        "\n",
        "\n",
        "class Ant:\n",
        "    def __init__(self, pos, vel, i):\n",
        "        self.rep = Dot(pos, color=BLACK, radius=sa)\n",
        "        self.pos = pos\n",
        "        self.vel = vel\n",
        "        self.label = i\n",
        "\n",
        "    def neighbor(self, ph):\n",
        "        s = len(ph)\n",
        "        n = np.array([np.linalg.norm(ph[i].get_center() - self.pos) < R for i in range(s)])\n",
        "        n = np.nonzero(n)[0]\n",
        "        m = 0\n",
        "        l = 0\n",
        "        r = 0\n",
        "        for i in n:\n",
        "          phpos = ph[i].get_center()\n",
        "          phi = np.arcsin(\n",
        "          np.linalg.norm(np.cross(phpos - self.pos, self.vel)) /(speed*np.linalg.norm(phpos - self.pos)))\n",
        "          if np.pi / 2 - Theta / 3 < phi < np.pi / 2 + Theta / 3:\n",
        "            m += 1\n",
        "          if np.pi / 2 - Theta < phi < np.pi / 2 - Theta / 3 :\n",
        "            l += 1\n",
        "          if np.pi / 2 + Theta / 3 < phi < np.pi / 2 + Theta:\n",
        "            r += 1\n",
        "\n",
        "        return np.array([l, m, r])\n",
        "\n",
        "    def motion(self, Mobject, dt):\n",
        "        self.pos += self.vel * dt\n",
        "\n",
        "        if any(self.pos < np.array([EdgeL, EdgeD, 0])) or any(np.array([EdgeR, EdgeU, 0]) < self.pos):\n",
        "            Detecting_Walls(self)\n",
        "\n",
        "        a = np.random.uniform()\n",
        "        if a < PoissonWandering:\n",
        "            wondering(self)\n",
        "\n",
        "        b = np.random.uniform()\n",
        "        if b < lam_t:\n",
        "            Trial_recruitment(self, pheromones)\n",
        "        Mobject.move_to(self.pos)\n",
        "\n",
        "\n",
        "ANTS_object = [Ant(POS[i], VEL[i], i) for i in range(N)]\n",
        "\n",
        "ANTS = VGroup()\n",
        "for i in range(N):\n",
        "    ANTS.add(ANTS_object[i].rep.add_updater(ANTS_object[i].motion))\n",
        "\n",
        "\n",
        "'''____'''\n",
        "\n",
        "\n"
      ],
      "metadata": {
        "id": "637BjamxhUho",
        "colab": {
          "base_uri": "https://localhost:8080/",
          "height": 35
        },
        "outputId": "550b824d-c1bc-4045-8945-f3bd7fbbfc39"
      },
      "execution_count": null,
      "outputs": [
        {
          "output_type": "execute_result",
          "data": {
            "text/plain": [
              "'____'"
            ],
            "application/vnd.google.colaboratory.intrinsic+json": {
              "type": "string"
            }
          },
          "metadata": {},
          "execution_count": 3
        }
      ]
    },
    {
      "cell_type": "code",
      "source": [
        "%%manim -qm -v WARNING AntTrail\n",
        "class AntTrail(Scene):\n",
        "    def construct(self):\n",
        "        self.camera.background_color = DARK_BROWN\n",
        "        self.add(pheromones)\n",
        "        self.add(ANTS)\n",
        "        self.wait(5)\n"
      ],
      "metadata": {
        "id": "fqz2dCvlNGo3"
      },
      "execution_count": null,
      "outputs": []
    }
  ]
}